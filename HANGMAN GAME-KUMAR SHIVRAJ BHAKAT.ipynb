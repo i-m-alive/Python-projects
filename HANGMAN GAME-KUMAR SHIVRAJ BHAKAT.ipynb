{
 "cells": [
  {
   "cell_type": "markdown",
   "id": "9995f956",
   "metadata": {},
   "source": [
    "# Major Project- HANGMAN GAME"
   ]
  },
  {
   "cell_type": "markdown",
   "id": "b1bf57ce",
   "metadata": {},
   "source": [
    "NAME: KUMAR SHIVRAJ BHAKAT\n"
   ]
  },
  {
   "cell_type": "markdown",
   "id": "eb0fbc3a",
   "metadata": {},
   "source": [
    "JAIN UNIVERSITY"
   ]
  },
  {
   "cell_type": "code",
   "execution_count": 2,
   "id": "b20c9a2d",
   "metadata": {},
   "outputs": [],
   "source": [
    "import random"
   ]
  },
  {
   "cell_type": "code",
   "execution_count": 3,
   "id": "0f080829",
   "metadata": {},
   "outputs": [],
   "source": [
    "words = [\n",
    "    \"apple\", \"banana\", \"orange\", \"mango\", \"grape\",  \n",
    "    \"tiger\", \"elephant\", \"giraffe\", \"lion\", \"zebra\", \n",
    "    \"paris\", \"london\", \"tokyo\", \"newyork\", \"berlin\"  \n",
    "]\n"
   ]
  },
  {
   "cell_type": "code",
   "execution_count": 4,
   "id": "b5e5d62f",
   "metadata": {},
   "outputs": [],
   "source": [
    "def choose_word():\n",
    "    return random.choice(words)"
   ]
  },
  {
   "cell_type": "code",
   "execution_count": 5,
   "id": "4ba228a3",
   "metadata": {},
   "outputs": [],
   "source": [
    "def initialize_game():\n",
    "    word = choose_word()\n",
    "    guessed_letters = set()\n",
    "    incorrect_guesses = 0\n",
    "    return word, guessed_letters, incorrect_guesses"
   ]
  },
  {
   "cell_type": "code",
   "execution_count": 6,
   "id": "b1a95036",
   "metadata": {},
   "outputs": [],
   "source": [
    "def display_word(word, guessed_letters):\n",
    "    return \" \".join(letter if letter in guessed_letters else \"_\" for letter in word)"
   ]
  },
  {
   "cell_type": "code",
   "execution_count": 7,
   "id": "5189aa8c",
   "metadata": {},
   "outputs": [],
   "source": [
    "def check_win(word, guessed_letters):\n",
    "    return all(letter in guessed_letters for letter in word)"
   ]
  },
  {
   "cell_type": "code",
   "execution_count": 8,
   "id": "770ae453",
   "metadata": {},
   "outputs": [],
   "source": [
    "def play_hangman():\n",
    "    print(\"Welcome to Hangman!\")\n",
    "    Player_name=input(\"Please enter your name:\")\n",
    "    difficulty = input(\"Select difficulty level (easy, medium, hard): \").lower()\n",
    "    \n",
    "    if difficulty not in [\"easy\", \"medium\", \"hard\"]:\n",
    "        print(\"Invalid difficulty level. Please choose from 'easy', 'medium', or 'hard'.\")\n",
    "        return\n",
    "\n",
    "    word, guessed_letters, incorrect_guesses = initialize_game()\n",
    "    max_incorrect_guesses = 6 if difficulty == \"hard\" else 8 if difficulty == \"medium\" else 10\n",
    "\n",
    "    while incorrect_guesses < max_incorrect_guesses:\n",
    "        print(\"\\n\" + display_word(word, guessed_letters))\n",
    "        guess = input(\"Guess a letter: \").lower()\n",
    "\n",
    "        if len(guess) != 1 or not guess.isalpha():\n",
    "            print(\"Please enter a single letter.\")\n",
    "            continue\n",
    "\n",
    "        if guess in guessed_letters:\n",
    "            print(\"You've already guessed that letter.\")\n",
    "            continue\n",
    "\n",
    "        guessed_letters.add(guess)\n",
    "\n",
    "        if guess not in word:\n",
    "            incorrect_guesses += 1\n",
    "            print(f\"Incorrect guesses: {incorrect_guesses}/{max_incorrect_guesses}\")\n",
    "        \n",
    "        if check_win(word, guessed_letters):\n",
    "            print(\"\\nCongo! Your guess is correct :\", word)\n",
    "            break\n",
    "\n",
    "    else:\n",
    "        print(\"\\nGame over! The word was:\", word)"
   ]
  },
  {
   "cell_type": "code",
   "execution_count": 9,
   "id": "67aecf56",
   "metadata": {},
   "outputs": [
    {
     "name": "stdout",
     "output_type": "stream",
     "text": [
      "Welcome to Hangman!\n",
      "Please enter your name:SHIVRAJ\n",
      "Select difficulty level (easy, medium, hard): EASY\n",
      "\n",
      "_ _ _ _ _ _\n",
      "Guess a letter: A\n",
      "Incorrect guesses: 1/10\n",
      "\n",
      "_ _ _ _ _ _\n",
      "Guess a letter: L\n",
      "\n",
      "l _ _ _ _ _\n",
      "Guess a letter: O\n",
      "\n",
      "l o _ _ o _\n",
      "Guess a letter: C\n",
      "Incorrect guesses: 2/10\n",
      "\n",
      "l o _ _ o _\n",
      "Guess a letter: D\n",
      "\n",
      "l o _ d o _\n",
      "Guess a letter: N\n",
      "\n",
      "Congo! Your guess is correct : london\n"
     ]
    }
   ],
   "source": [
    "if __name__ == \"__main__\":\n",
    "    play_hangman()"
   ]
  },
  {
   "cell_type": "code",
   "execution_count": null,
   "id": "1f9c1f5f",
   "metadata": {},
   "outputs": [],
   "source": []
  }
 ],
 "metadata": {
  "kernelspec": {
   "display_name": "Python 3 (ipykernel)",
   "language": "python",
   "name": "python3"
  },
  "language_info": {
   "codemirror_mode": {
    "name": "ipython",
    "version": 3
   },
   "file_extension": ".py",
   "mimetype": "text/x-python",
   "name": "python",
   "nbconvert_exporter": "python",
   "pygments_lexer": "ipython3",
   "version": "3.11.1"
  }
 },
 "nbformat": 4,
 "nbformat_minor": 5
}
